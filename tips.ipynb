{
 "cells": [
  {
   "cell_type": "markdown",
   "id": "e0519782-f2ef-46d3-9dfe-8f78e44751b2",
   "metadata": {
    "jp-MarkdownHeadingCollapsed": true
   },
   "source": [
    "# Projet statistique "
   ]
  },
  {
   "cell_type": "code",
   "execution_count": 1,
   "id": "376088f2-d830-49da-8f8f-63033b595d57",
   "metadata": {},
   "outputs": [],
   "source": [
    "import matplotlib.pyplot as plt\n",
    "import pandas as pd\n",
    "\n",
    "%matplotlib inline"
   ]
  },
  {
   "cell_type": "markdown",
   "id": "ca4a1da3-5b19-44d4-9cc1-f77f29cd9771",
   "metadata": {},
   "source": [
    "# Statistique descriptive I"
   ]
  },
  {
   "cell_type": "markdown",
   "id": "094192b3-da2f-43c8-a76f-6f2509e7226d",
   "metadata": {},
   "source": [
    "Le jeu de donnees que nous etudierons ici est \"tips.csv\". Il contient les donnees sur les pourboires (tip) laisser par des clients dans un restaurant ainsi que des variables telles que : total_bill (facture total), sex (sexe), smoker (fumeur ou non), day (jour de la semaine), time (le repas), size (taille)."
   ]
  },
  {
   "cell_type": "code",
   "execution_count": 2,
   "id": "b3ca682c-f330-4907-a54c-5a404e38413b",
   "metadata": {
    "scrolled": true
   },
   "outputs": [
    {
     "data": {
      "text/html": [
       "<div>\n",
       "<style scoped>\n",
       "    .dataframe tbody tr th:only-of-type {\n",
       "        vertical-align: middle;\n",
       "    }\n",
       "\n",
       "    .dataframe tbody tr th {\n",
       "        vertical-align: top;\n",
       "    }\n",
       "\n",
       "    .dataframe thead th {\n",
       "        text-align: right;\n",
       "    }\n",
       "</style>\n",
       "<table border=\"1\" class=\"dataframe\">\n",
       "  <thead>\n",
       "    <tr style=\"text-align: right;\">\n",
       "      <th></th>\n",
       "      <th>total_bill</th>\n",
       "      <th>tip</th>\n",
       "      <th>sex</th>\n",
       "      <th>smoker</th>\n",
       "      <th>day</th>\n",
       "      <th>time</th>\n",
       "      <th>size</th>\n",
       "    </tr>\n",
       "  </thead>\n",
       "  <tbody>\n",
       "    <tr>\n",
       "      <th>0</th>\n",
       "      <td>16.99</td>\n",
       "      <td>1.01</td>\n",
       "      <td>Female</td>\n",
       "      <td>No</td>\n",
       "      <td>Sun</td>\n",
       "      <td>Dinner</td>\n",
       "      <td>2</td>\n",
       "    </tr>\n",
       "    <tr>\n",
       "      <th>1</th>\n",
       "      <td>10.34</td>\n",
       "      <td>1.66</td>\n",
       "      <td>Male</td>\n",
       "      <td>No</td>\n",
       "      <td>Sun</td>\n",
       "      <td>Dinner</td>\n",
       "      <td>3</td>\n",
       "    </tr>\n",
       "    <tr>\n",
       "      <th>2</th>\n",
       "      <td>21.01</td>\n",
       "      <td>3.50</td>\n",
       "      <td>Male</td>\n",
       "      <td>No</td>\n",
       "      <td>Sun</td>\n",
       "      <td>Dinner</td>\n",
       "      <td>3</td>\n",
       "    </tr>\n",
       "    <tr>\n",
       "      <th>3</th>\n",
       "      <td>23.68</td>\n",
       "      <td>3.31</td>\n",
       "      <td>Male</td>\n",
       "      <td>No</td>\n",
       "      <td>Sun</td>\n",
       "      <td>Dinner</td>\n",
       "      <td>2</td>\n",
       "    </tr>\n",
       "    <tr>\n",
       "      <th>4</th>\n",
       "      <td>24.59</td>\n",
       "      <td>3.61</td>\n",
       "      <td>Female</td>\n",
       "      <td>No</td>\n",
       "      <td>Sun</td>\n",
       "      <td>Dinner</td>\n",
       "      <td>4</td>\n",
       "    </tr>\n",
       "  </tbody>\n",
       "</table>\n",
       "</div>"
      ],
      "text/plain": [
       "   total_bill   tip     sex smoker  day    time  size\n",
       "0       16.99  1.01  Female     No  Sun  Dinner     2\n",
       "1       10.34  1.66    Male     No  Sun  Dinner     3\n",
       "2       21.01  3.50    Male     No  Sun  Dinner     3\n",
       "3       23.68  3.31    Male     No  Sun  Dinner     2\n",
       "4       24.59  3.61  Female     No  Sun  Dinner     4"
      ]
     },
     "execution_count": 2,
     "metadata": {},
     "output_type": "execute_result"
    }
   ],
   "source": [
    "df = pd.read_csv(\"tips.csv\", header = 0)\n",
    "df.head()"
   ]
  },
  {
   "cell_type": "markdown",
   "id": "16bae93c-efd4-448b-90dd-b881c2ae0056",
   "metadata": {},
   "source": [
    "Nous etudierons les caracteres quantitatifs et qualitatifs \"total_bill\" et \"sex\"."
   ]
  },
  {
   "cell_type": "markdown",
   "id": "e33c082e-90e1-447d-b968-900411979b34",
   "metadata": {},
   "source": [
    "## Variable Numerique"
   ]
  },
  {
   "cell_type": "code",
   "execution_count": 3,
   "id": "54394c64-0ca9-472f-8991-8c2139751d31",
   "metadata": {
    "scrolled": true
   },
   "outputs": [
    {
     "data": {
      "text/plain": [
       "<Axes: >"
      ]
     },
     "execution_count": 3,
     "metadata": {},
     "output_type": "execute_result"
    },
    {
     "data": {
      "image/png": "[encoded data removed]",
      "text/plain": [
       "<Figure size 640x480 with 1 Axes>"
      ]
     },
     "metadata": {},
     "output_type": "display_data"
    }
   ],
   "source": [
    "df[\"total_bill\"].hist()"
   ]
  },
  {
   "cell_type": "markdown",
   "id": "12ad9ad8-08b6-4719-b3c8-779c3f05ca05",
   "metadata": {},
   "source": [
    "On remarque que la variable \"total_bill\" suit une loi normale."
   ]
  },
  {
   "cell_type": "markdown",
   "id": "2ffc2b8e-09d2-4697-bfdb-82056e4a3af2",
   "metadata": {},
   "source": [
    "$$X \\sim \\mathcal{N}(\\overline{x},\\,\\sigma^{2})$$"
   ]
  },
  {
   "cell_type": "markdown",
   "id": "5f0f5305-d68a-4f5b-8c8c-a9d099216ad3",
   "metadata": {},
   "source": [
    "Pour determiner la moyenne, les quartiles, l'ecart-type et la variance, nous utiliserons des methodes predefinient. Ces methodes là se basent sur les relations vues en cours:"
   ]
  },
  {
   "cell_type": "markdown",
   "id": "935903ec-52f2-46ed-91e3-9acde76d3b04",
   "metadata": {},
   "source": [
    "La moyenne: \n",
    "$$\\overline{x}=\\frac{1}{n} \\sum_{i=1}^{n} x_{i}=\\frac{1}{n}\\left(x_{1}+\\cdots+x_{n}\\right)$$\n",
    "\n",
    "L'ecart-type: \n",
    "$$\\sigma = \\sqrt{\\frac{\\sum_{i=1}^{N}(x_i - \\overline{x})^2}{N}}$$\n",
    "\n",
    "La variance :\n",
    "$$\\sigma^2 = \\frac{\\sum_{i=1}^{N}(x_i - \\mu)^2}{N}$$\n"
   ]
  },
  {
   "cell_type": "code",
   "execution_count": 4,
   "id": "8155d893-c0f6-42d0-971b-99a07401681d",
   "metadata": {},
   "outputs": [
    {
     "name": "stdout",
     "output_type": "stream",
     "text": [
      "Intervalle de confiance: [18.67,20.9]\n"
     ]
    }
   ],
   "source": [
    "# Moyenne avec intervalle de confiance de 95%\n",
    "from math import sqrt\n",
    "\n",
    "Moyenne = df[\"total_bill\"].mean()\n",
    "Ecart_type = df[\"total_bill\"].std()\n",
    "n = df[\"total_bill\"].count()\n",
    "Z = 1.96\n",
    "\n",
    "# print(Moyenne, Ecart_type, n)\n",
    "low_lmt = round(Moyenne - Z*Ecart_type/sqrt(n),2)\n",
    "high_lmt = round(Moyenne + Z*Ecart_type/sqrt(n),2)\n",
    "print(\"Intervalle de confiance: [\"+str(low_lmt)+\",\"+ str(high_lmt)+\"]\")"
   ]
  },
  {
   "cell_type": "markdown",
   "id": "89ebe3d6-f5ff-40a8-af1f-547e96c24c71",
   "metadata": {},
   "source": [
    "Donc les clients ont 95% de chance d'avoir en moyenne une facture entre 18 dollars et 21 dollars."
   ]
  },
  {
   "cell_type": "code",
   "execution_count": 5,
   "id": "3f7bd52b-b8da-4b75-81fd-ac7e8e450a46",
   "metadata": {},
   "outputs": [],
   "source": [
    "Mediane = df[\"total_bill\"].median() \n",
    "Minimum = df[\"total_bill\"].min() \n",
    "Maximum = df[\"total_bill\"].max() \n",
    "Variance = Ecart_type**2 "
   ]
  },
  {
   "cell_type": "markdown",
   "id": "cd72c6ea-fcb3-430f-8dad-7d8d0b2918e4",
   "metadata": {},
   "source": [
    "$$\\text{La mediane etant de 17.8\\$, alors environs 50\\% des clients de ce restaurant paye une facture de 17.8\\$}$$\n",
    "$$\\text{Ecart-type = 8.9}$$\n",
    "$$\\text{Variance = 79.25}$$\n",
    "$$\\text{Minimum = 3.07}$$\n",
    "$$\\text{Max = 50.81}$$\n",
    "$$\\text{Quantiles = [ 3.07 ; 13.35 ; 17.8 ; 24.13 ; 50.81 ]}$$"
   ]
  },
  {
   "cell_type": "markdown",
   "id": "71788d47-73c7-4ddb-951b-2fd056e73ca7",
   "metadata": {},
   "source": [
    "## Variable Categorielle "
   ]
  },
  {
   "cell_type": "code",
   "execution_count": 6,
   "id": "5c24b573-3ac8-4c05-a6b6-871968342d96",
   "metadata": {},
   "outputs": [
    {
     "data": {
      "text/plain": [
       "array(['Female', 'Male'], dtype=object)"
      ]
     },
     "execution_count": 6,
     "metadata": {},
     "output_type": "execute_result"
    }
   ],
   "source": [
    "df.sex.unique() "
   ]
  },
  {
   "cell_type": "markdown",
   "id": "6f7583a3-9cdd-4042-afe1-978620badfc8",
   "metadata": {},
   "source": [
    "Cette variable categorielle possede 2 modalités: Male et Female"
   ]
  },
  {
   "cell_type": "code",
   "execution_count": 7,
   "id": "d1c38b13-0ef3-44c6-aff1-8715ed4ce89d",
   "metadata": {},
   "outputs": [
    {
     "data": {
      "text/html": [
       "<div>\n",
       "<style scoped>\n",
       "    .dataframe tbody tr th:only-of-type {\n",
       "        vertical-align: middle;\n",
       "    }\n",
       "\n",
       "    .dataframe tbody tr th {\n",
       "        vertical-align: top;\n",
       "    }\n",
       "\n",
       "    .dataframe thead th {\n",
       "        text-align: right;\n",
       "    }\n",
       "</style>\n",
       "<table border=\"1\" class=\"dataframe\">\n",
       "  <thead>\n",
       "    <tr style=\"text-align: right;\">\n",
       "      <th>col_0</th>\n",
       "      <th>freq</th>\n",
       "    </tr>\n",
       "    <tr>\n",
       "      <th>sex</th>\n",
       "      <th></th>\n",
       "    </tr>\n",
       "  </thead>\n",
       "  <tbody>\n",
       "    <tr>\n",
       "      <th>Female</th>\n",
       "      <td>0.36</td>\n",
       "    </tr>\n",
       "    <tr>\n",
       "      <th>Male</th>\n",
       "      <td>0.64</td>\n",
       "    </tr>\n",
       "  </tbody>\n",
       "</table>\n",
       "</div>"
      ],
      "text/plain": [
       "col_0   freq\n",
       "sex         \n",
       "Female  0.36\n",
       "Male    0.64"
      ]
     },
     "execution_count": 7,
     "metadata": {},
     "output_type": "execute_result"
    }
   ],
   "source": [
    "round(pd.crosstab(df.sex, \"freq\", normalize=True),2)"
   ]
  },
  {
   "cell_type": "markdown",
   "id": "bb092923-773c-463c-ace6-409c90d81139",
   "metadata": {},
   "source": [
    "Nous avons une proportion de 36% de femmes contre 64% d'hommes dans notre jeu de données."
   ]
  },
  {
   "cell_type": "markdown",
   "id": "c5ccc33a-c951-4b7a-8cbe-eb594ea9f080",
   "metadata": {},
   "source": [
    "Afin de determiner l'intervalle de confiance, nous allons utiliser la relation: \n",
    "$$\\hat{p} \\pm Z \\times \\sqrt{\\frac{\\hat{p}(1 - \\hat{p})}{n} }$$\n",
    "où $$\\hat{p}: frequence $$"
   ]
  },
  {
   "cell_type": "code",
   "execution_count": 8,
   "id": "c22b6519-a552-4489-acda-7ea44483287d",
   "metadata": {},
   "outputs": [],
   "source": [
    "Female_frq = round(df[\"sex\"].value_counts()[\"Female\"]/df[\"sex\"].count(),2)\n",
    "Male_frq = round(df[\"sex\"].value_counts()[\"Male\"]/df[\"sex\"].count(),2)"
   ]
  },
  {
   "cell_type": "code",
   "execution_count": 9,
   "id": "8d93bc84-b570-4d69-b695-cb3cd26c39e5",
   "metadata": {},
   "outputs": [],
   "source": [
    "e_Female = Z*sqrt((Female_frq*(1-Female_frq))/n)\n",
    "e_Male = Z*sqrt((Male_frq*(1-Female_frq))/n)"
   ]
  },
  {
   "cell_type": "code",
   "execution_count": 10,
   "id": "d9dddf08-4db2-4ae2-aab9-605a2e657289",
   "metadata": {},
   "outputs": [
    {
     "name": "stdout",
     "output_type": "stream",
     "text": [
      "A 95%, l'intervalle [0.3 , 0.42] contient le pourcentage de femme dans le groupe.\n",
      "A 95%, l'intervalle [0.58 , 0.7] contient le pourcentage d'homme dans le groupe.\n"
     ]
    }
   ],
   "source": [
    "print(f\"A 95%, l'intervalle [{round(Female_frq-e_Female,2)} , {round(Female_frq+e_Female,2)}] contient le pourcentage de femme dans le groupe.\")\n",
    "print(f\"A 95%, l'intervalle [{round(Male_frq-e_Female,2)} , {round(Male_frq+e_Female,2)}] contient le pourcentage d'homme dans le groupe.\")"
   ]
  },
  {
   "cell_type": "markdown",
   "id": "e5f7ebcd-3ef4-4047-9285-f4f05847698d",
   "metadata": {},
   "source": [
    "Ainsi, nous avons 95% de chances d'avoir une frequence de femme entre 30% et 42%. Et les mêmes chances d'avoir une frequence d'homme entre 58% et 70%."
   ]
  }
 ],
 "metadata": {
  "kernelspec": {
   "display_name": "Python 3 (ipykernel)",
   "language": "python",
   "name": "python3"
  },
  "language_info": {
   "codemirror_mode": {
    "name": "ipython",
    "version": 3
   },
   "file_extension": ".py",
   "mimetype": "text/x-python",
   "name": "python",
   "nbconvert_exporter": "python",
   "pygments_lexer": "ipython3",
   "version": "3.11.4"
  }
 },
 "nbformat": 4,
 "nbformat_minor": 5
}
